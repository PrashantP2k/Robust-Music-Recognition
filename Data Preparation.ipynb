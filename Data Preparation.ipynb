{
 "cells": [
  {
   "cell_type": "code",
   "execution_count": 7,
   "id": "a3c55b7c",
   "metadata": {},
   "outputs": [],
   "source": [
    "import numpy as np\n",
    "import audio_metadata as am\n",
    "import soundfile as sf                                                      \n",
    "import scipy.io\n",
    "import glob, os\n",
    "import matplotlib.pyplot as plt\n",
    "from IPython.display import Audio\n",
    "%matplotlib inline\n",
    "\n",
    "from Distortion import distortion, normalize\n",
    "from Convolution import convolution"
   ]
  },
  {
   "cell_type": "code",
   "execution_count": 50,
   "id": "6e01cfff",
   "metadata": {
    "scrolled": true
   },
   "outputs": [
    {
     "name": "stderr",
     "output_type": "stream",
     "text": [
      "AudioMetadataWarning:\n",
      "    Ignoring ``TBPM``.\n",
      "    Numeric text frame values must consist only of digits.\n",
      "    \n"
     ]
    },
    {
     "name": "stdout",
     "output_type": "stream",
     "text": [
      "4 48000\n",
      "0.3599328144382288 0.0899241914261032\n",
      "3 48000\n"
     ]
    },
    {
     "ename": "ValueError",
     "evalue": "max() arg is an empty sequence",
     "output_type": "error",
     "traceback": [
      "\u001b[1;31m---------------------------------------------------------------------------\u001b[0m",
      "\u001b[1;31mValueError\u001b[0m                                Traceback (most recent call last)",
      "Cell \u001b[1;32mIn[50], line 20\u001b[0m\n\u001b[0;32m     18\u001b[0m         ir \u001b[38;5;241m=\u001b[39m np\u001b[38;5;241m.\u001b[39mmean(ir, axis \u001b[38;5;241m=\u001b[39m \u001b[38;5;241m1\u001b[39m)\n\u001b[0;32m     19\u001b[0m     sf\u001b[38;5;241m.\u001b[39mwrite(os\u001b[38;5;241m.\u001b[39mpath\u001b[38;5;241m.\u001b[39mjoin(\u001b[38;5;124m'\u001b[39m\u001b[38;5;124m./Data/Impulses\u001b[39m\u001b[38;5;132;01m{}\u001b[39;00m\u001b[38;5;124m.wav\u001b[39m\u001b[38;5;124m'\u001b[39m\u001b[38;5;241m.\u001b[39mformat(\u001b[38;5;28mstr\u001b[39m(r))), ir, sr)\n\u001b[1;32m---> 20\u001b[0m \u001b[43mconvolution\u001b[49m\u001b[43m(\u001b[49m\u001b[43mos\u001b[49m\u001b[38;5;241;43m.\u001b[39;49m\u001b[43mpath\u001b[49m\u001b[38;5;241;43m.\u001b[39;49m\u001b[43mjoin\u001b[49m\u001b[43m(\u001b[49m\u001b[38;5;124;43m'\u001b[39;49m\u001b[38;5;124;43m./Data/Train\u001b[39;49m\u001b[38;5;124;43m'\u001b[39;49m\u001b[43m,\u001b[49m\u001b[43m \u001b[49m\u001b[43mfilename\u001b[49m\u001b[43m[\u001b[49m\u001b[43m:\u001b[49m\u001b[38;5;241;43m-\u001b[39;49m\u001b[38;5;241;43m5\u001b[39;49m\u001b[43m]\u001b[49m\u001b[43m \u001b[49m\u001b[38;5;241;43m+\u001b[39;49m\u001b[43m \u001b[49m\u001b[38;5;28;43mstr\u001b[39;49m\u001b[43m(\u001b[49m\u001b[43mi\u001b[49m\u001b[43m \u001b[49m\u001b[38;5;241;43m/\u001b[39;49m\u001b[38;5;241;43m/\u001b[39;49m\u001b[43m \u001b[49m\u001b[43m(\u001b[49m\u001b[38;5;241;43m10\u001b[39;49m\u001b[43m \u001b[49m\u001b[38;5;241;43m*\u001b[39;49m\u001b[43m \u001b[49m\u001b[43msr\u001b[49m\u001b[43m)\u001b[49m\u001b[43m)\u001b[49m\u001b[43m \u001b[49m\u001b[38;5;241;43m+\u001b[39;49m\u001b[43m \u001b[49m\u001b[38;5;124;43m'\u001b[39;49m\u001b[38;5;124;43m.wav\u001b[39;49m\u001b[38;5;124;43m'\u001b[39;49m\u001b[43m)\u001b[49m\u001b[43m,\u001b[49m\u001b[43m \u001b[49m\u001b[43mos\u001b[49m\u001b[38;5;241;43m.\u001b[39;49m\u001b[43mpath\u001b[49m\u001b[38;5;241;43m.\u001b[39;49m\u001b[43mjoin\u001b[49m\u001b[43m(\u001b[49m\u001b[38;5;124;43m'\u001b[39;49m\u001b[38;5;124;43m./Data/Impulses\u001b[39;49m\u001b[38;5;124;43m'\u001b[39;49m\u001b[43m,\u001b[49m\u001b[43m \u001b[49m\u001b[38;5;28;43mstr\u001b[39;49m\u001b[43m(\u001b[49m\u001b[43mr\u001b[49m\u001b[43m)\u001b[49m\u001b[43m \u001b[49m\u001b[38;5;241;43m+\u001b[39;49m\u001b[43m \u001b[49m\u001b[38;5;124;43m'\u001b[39;49m\u001b[38;5;124;43m.wav\u001b[39;49m\u001b[38;5;124;43m'\u001b[39;49m\u001b[43m)\u001b[49m\u001b[43m,\u001b[49m\u001b[43m \u001b[49m\u001b[43mos\u001b[49m\u001b[38;5;241;43m.\u001b[39;49m\u001b[43mpath\u001b[49m\u001b[38;5;241;43m.\u001b[39;49m\u001b[43mjoin\u001b[49m\u001b[43m(\u001b[49m\u001b[38;5;124;43m'\u001b[39;49m\u001b[38;5;124;43m./Data/Train\u001b[39;49m\u001b[38;5;124;43m'\u001b[39;49m\u001b[43m,\u001b[49m\u001b[43m \u001b[49m\u001b[43mfilename\u001b[49m\u001b[43m[\u001b[49m\u001b[43m:\u001b[49m\u001b[38;5;241;43m-\u001b[39;49m\u001b[38;5;241;43m5\u001b[39;49m\u001b[43m]\u001b[49m\u001b[43m \u001b[49m\u001b[38;5;241;43m+\u001b[39;49m\u001b[43m \u001b[49m\u001b[38;5;28;43mstr\u001b[39;49m\u001b[43m(\u001b[49m\u001b[43mi\u001b[49m\u001b[43m \u001b[49m\u001b[38;5;241;43m/\u001b[39;49m\u001b[38;5;241;43m/\u001b[39;49m\u001b[43m \u001b[49m\u001b[43m(\u001b[49m\u001b[38;5;241;43m10\u001b[39;49m\u001b[43m \u001b[49m\u001b[38;5;241;43m*\u001b[39;49m\u001b[43m \u001b[49m\u001b[43msr\u001b[49m\u001b[43m)\u001b[49m\u001b[43m)\u001b[49m\u001b[43m \u001b[49m\u001b[38;5;241;43m+\u001b[39;49m\u001b[43m \u001b[49m\u001b[38;5;124;43m'\u001b[39;49m\u001b[38;5;124;43m.wav\u001b[39;49m\u001b[38;5;124;43m'\u001b[39;49m\u001b[43m)\u001b[49m\u001b[43m)\u001b[49m\n\u001b[0;32m     21\u001b[0m sr_d, x \u001b[38;5;241m=\u001b[39m scipy\u001b[38;5;241m.\u001b[39mio\u001b[38;5;241m.\u001b[39mwavfile\u001b[38;5;241m.\u001b[39mread(os\u001b[38;5;241m.\u001b[39mpath\u001b[38;5;241m.\u001b[39mjoin(\u001b[38;5;124m'\u001b[39m\u001b[38;5;124m./Data/Train\u001b[39m\u001b[38;5;124m'\u001b[39m, filename[:\u001b[38;5;241m-\u001b[39m\u001b[38;5;241m5\u001b[39m] \u001b[38;5;241m+\u001b[39m \u001b[38;5;28mstr\u001b[39m(i) \u001b[38;5;241m+\u001b[39m \u001b[38;5;124m'\u001b[39m\u001b[38;5;124m.wav\u001b[39m\u001b[38;5;124m'\u001b[39m))\n\u001b[0;32m     22\u001b[0m p_td \u001b[38;5;241m=\u001b[39m np\u001b[38;5;241m.\u001b[39mrandom\u001b[38;5;241m.\u001b[39mrandom()\n",
      "File \u001b[1;32mE:\\IIT Guwahati\\Sem 8\\Course Projects\\DA 623 - Computing With Signals\\Implementation\\Convolution.py:91\u001b[0m, in \u001b[0;36mconvolution\u001b[1;34m(audio_file, ir_file, output_file)\u001b[0m\n\u001b[0;32m     88\u001b[0m convert_wav(audio_file)\n\u001b[0;32m     89\u001b[0m convert_wav(ir_file)\n\u001b[1;32m---> 91\u001b[0m audio \u001b[38;5;241m=\u001b[39m \u001b[43mread_wave\u001b[49m\u001b[43m(\u001b[49m\u001b[43maudio_file\u001b[49m\u001b[43m)\u001b[49m\n\u001b[0;32m     92\u001b[0m ir \u001b[38;5;241m=\u001b[39m read_wave(ir_file)\n\u001b[0;32m     94\u001b[0m \u001b[38;5;28;01mif\u001b[39;00m (\u001b[38;5;28mlen\u001b[39m(audio\u001b[38;5;241m.\u001b[39mdata) \u001b[38;5;241m>\u001b[39m \u001b[38;5;28mlen\u001b[39m(ir\u001b[38;5;241m.\u001b[39mdata)):\n",
      "File \u001b[1;32mE:\\IIT Guwahati\\Sem 8\\Course Projects\\DA 623 - Computing With Signals\\Implementation\\Convolution.py:79\u001b[0m, in \u001b[0;36mread_wave\u001b[1;34m(file)\u001b[0m\n\u001b[0;32m     76\u001b[0m \u001b[38;5;28;01mif\u001b[39;00m (num_channels \u001b[38;5;241m==\u001b[39m \u001b[38;5;241m2\u001b[39m):\n\u001b[0;32m     77\u001b[0m     data \u001b[38;5;241m=\u001b[39m data[::\u001b[38;5;241m2\u001b[39m]\n\u001b[1;32m---> 79\u001b[0m \u001b[38;5;28;01mreturn\u001b[39;00m \u001b[43mWave\u001b[49m\u001b[43m(\u001b[49m\u001b[43mdata\u001b[49m\u001b[43m,\u001b[49m\u001b[43m \u001b[49m\u001b[43mframerate\u001b[49m\u001b[43m)\u001b[49m\n",
      "File \u001b[1;32mE:\\IIT Guwahati\\Sem 8\\Course Projects\\DA 623 - Computing With Signals\\Implementation\\Convolution.py:8\u001b[0m, in \u001b[0;36mWave.__init__\u001b[1;34m(self, data, frame_rate)\u001b[0m\n\u001b[0;32m      7\u001b[0m \u001b[38;5;28;01mdef\u001b[39;00m \u001b[38;5;21m__init__\u001b[39m(\u001b[38;5;28mself\u001b[39m, data, frame_rate):\n\u001b[1;32m----> 8\u001b[0m     \u001b[38;5;28mself\u001b[39m\u001b[38;5;241m.\u001b[39mdata \u001b[38;5;241m=\u001b[39m \u001b[43mnormalize\u001b[49m\u001b[43m(\u001b[49m\u001b[43mdata\u001b[49m\u001b[43m)\u001b[49m\n\u001b[0;32m      9\u001b[0m     \u001b[38;5;28mself\u001b[39m\u001b[38;5;241m.\u001b[39mframe_rate \u001b[38;5;241m=\u001b[39m frame_rate\n",
      "File \u001b[1;32mE:\\IIT Guwahati\\Sem 8\\Course Projects\\DA 623 - Computing With Signals\\Implementation\\Convolution.py:83\u001b[0m, in \u001b[0;36mnormalize\u001b[1;34m(data)\u001b[0m\n\u001b[0;32m     82\u001b[0m \u001b[38;5;28;01mdef\u001b[39;00m \u001b[38;5;21mnormalize\u001b[39m(data):\n\u001b[1;32m---> 83\u001b[0m     high, low \u001b[38;5;241m=\u001b[39m \u001b[38;5;28mabs\u001b[39m(\u001b[38;5;28;43mmax\u001b[39;49m\u001b[43m(\u001b[49m\u001b[43mdata\u001b[49m\u001b[43m)\u001b[49m), \u001b[38;5;28mabs\u001b[39m(\u001b[38;5;28mmin\u001b[39m(data))\n\u001b[0;32m     84\u001b[0m     \u001b[38;5;28;01mreturn\u001b[39;00m data \u001b[38;5;241m/\u001b[39m \u001b[38;5;28mmax\u001b[39m(high, low)\n",
      "\u001b[1;31mValueError\u001b[0m: max() arg is an empty sequence"
     ]
    }
   ],
   "source": [
    "metadata = []\n",
    "for filename in os.listdir(\"./Data\"):\n",
    "    if filename.endswith(('.wav', 'flac', 'mp3')):\n",
    "        d = am.load(os.path.join('./Data', filename))['tags']\n",
    "        metadata.append([d['title'][0], d['artist'][0], d['album'][0]])\n",
    "        x, sr_d = sf.read(os.path.join('./Data', filename))\n",
    "        for i in range(0, len(x), (10 * sr)):\n",
    "            data = x[i : (i + (10 * sr_d))]\n",
    "            if (len(np.shape(data)) > 1):\n",
    "                data = np.mean(data, axis = 1)\n",
    "            sf.write(os.path.join('./Data/Train', filename[:-5] + str(i // (10 * sr)) + '.wav'), data, sr_d)\n",
    "            r = np.random.randint(0, 7)\n",
    "            for irfilename in os.listdir(\"./Data/Impulses\"):\n",
    "                if (irfilename == \"{}.wav\".format(str(r))):\n",
    "                    sr, ir = scipy.io.wavfile.read(\"./Data/Impulses/{}.wav\".format(str(r)))\n",
    "                    print(r, sr)\n",
    "                if (len(np.shape(ir)) > 1):\n",
    "                    ir = np.mean(ir, axis = 1)\n",
    "                sf.write(os.path.join('./Data/Impulses{}.wav'.format(str(r))), ir, sr)\n",
    "            convolution(os.path.join('./Data/Train', filename[:-5] + str(i // (10 * sr)) + '.wav'), os.path.join('./Data/Impulses', str(r) + '.wav'), os.path.join('./Data/Train', filename[:-5] + str(i // (10 * sr)) + '.wav'))\n",
    "            sr_d, x = scipy.io.wavfile.read(os.path.join('./Data/Train', filename[:-5] + str(i) + '.wav'))\n",
    "            p_td = np.random.random()\n",
    "            p_cd = np.random.random()\n",
    "            print(p_td, p_cd)\n",
    "            if (p_td > 0.8):\n",
    "                print(\"tanh distortion\")\n",
    "                x = distortion(x = x, gain = 2e-4, mode = 'tanh')\n",
    "            if (p_cd > 0.8):\n",
    "                print(\"clipping distortion\")\n",
    "                x = distortion(x = x, gain = 4, mode = 'clipping')\n",
    "            scipy.io.wavfile.write(os.path.join('./Data/Train', filename[:-5] + str(i // (10 * sr)) + '.wav'), sr_d, x)\n",
    "print(metadata)"
   ]
  }
 ],
 "metadata": {
  "kernelspec": {
   "display_name": "Python 3 (ipykernel)",
   "language": "python",
   "name": "python3"
  },
  "language_info": {
   "codemirror_mode": {
    "name": "ipython",
    "version": 3
   },
   "file_extension": ".py",
   "mimetype": "text/x-python",
   "name": "python",
   "nbconvert_exporter": "python",
   "pygments_lexer": "ipython3",
   "version": "3.9.13"
  }
 },
 "nbformat": 4,
 "nbformat_minor": 5
}
